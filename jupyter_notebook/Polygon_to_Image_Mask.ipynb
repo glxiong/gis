{
 "cells": [
  {
   "cell_type": "code",
   "execution_count": 1,
   "metadata": {},
   "outputs": [],
   "source": [
    "import os\n",
    "import gdal\n",
    "import numpy as np\n",
    "\n",
    "import fiona\n",
    "\n",
    "import matplotlib.pyplot as plt\n",
    "\n",
    "import sys\n",
    "\n",
    "import cv2\n",
    "\n",
    "from shapely.geometry import Point\n",
    "from shapely.geometry.polygon import Polygon"
   ]
  },
  {
   "cell_type": "code",
   "execution_count": 2,
   "metadata": {},
   "outputs": [],
   "source": [
    "# def fig2data ( fig ):\n",
    "#     \"\"\"\n",
    "#     @brief Convert a Matplotlib figure to a 4D numpy array with RGBA channels and return it\n",
    "#     @param fig a matplotlib figure\n",
    "#     @return a numpy 3D array of RGBA values\n",
    "#     \"\"\"\n",
    "#     # draw the renderer\n",
    "#     fig.canvas.draw ( )\n",
    " \n",
    "#     # Get the RGBA buffer from the figure\n",
    "#     w,h = fig.canvas.get_width_height()\n",
    "#     buf = np.fromstring ( fig.canvas.tostring_argb(), dtype=np.uint8 )\n",
    "#     buf.shape = ( w, h,4 )\n",
    " \n",
    "#     # canvas.tostring_argb give pixmap in ARGB mode. Roll the ALPHA channel to have it in RGBA mode\n",
    "#     buf = np.roll ( buf, 3, axis = 2 )\n",
    "#     return buf"
   ]
  },
  {
   "cell_type": "code",
   "execution_count": 3,
   "metadata": {},
   "outputs": [],
   "source": [
    "file = \"000010_000011-RGB-7cm.tif\"\n",
    "file = '000007_000008-RGB-7cm.tif'\n",
    "\n",
    "file = '/Users/sukryool.kang/Projects/Geospatial Project/Data_For AI Team/Vecel_Data_Jan_4_2019/Graz/000007_000008-RGB-7cm.tif'\n",
    "#file = '/Users/sukryool.kang/Projects/Geospatial Project/Data_For AI Team/Vecel_Data_Jan_4_2019/LA2-60 IMAGES/000006_000006-RGB-7cm.tif'\n",
    "\n",
    "shape_file = '/Users/sukryool.kang/Projects/Geospatial Project/Data_For AI Team/Vecel_Data_Jan_4_2019/Groundtruth data/Graz/Graz_Building_ground truth.shp'"
   ]
  },
  {
   "cell_type": "code",
   "execution_count": 755,
   "metadata": {},
   "outputs": [],
   "source": [
    "def pointInsideImage(points,x_range,y_range):\n",
    "    \n",
    "    for each_poly in points:\n",
    "        for each_pt in each_poly:\n",
    "            if (x_range[0] <= each_pt[0]) and (each_pt[0] <= x_range[1]) and (y_range[0] <= each_pt[1]) and (each_pt[1] <= y_range[1]):\n",
    "                return True\n",
    "    \n",
    "    return False"
   ]
  },
  {
   "cell_type": "code",
   "execution_count": 756,
   "metadata": {},
   "outputs": [],
   "source": [
    "def convertPoint(points,gio_transform):\n",
    "    \n",
    "    top_left = [gio_transform[0],gio_transform[3]]\n",
    "    pixel_size = [gio_transform[1], gio_transform[5]]\n",
    "    \n",
    "    new_points = np.asarray(points)\n",
    "    new_points = (new_points-top_left)/pixel_size\n",
    "    new_points = new_points + 0.5\n",
    "    new_points = new_points.astype(int)\n",
    "    \n",
    "    return new_points"
   ]
  },
  {
   "cell_type": "code",
   "execution_count": 757,
   "metadata": {},
   "outputs": [],
   "source": [
    "def polyIncludePoly(points1, points2):\n",
    "    \n",
    "    polygon1 = Polygon(points1)\n",
    "    polygon2 = Polygon(points2)\n",
    "    \n",
    "    prime_idx = 0 \n",
    "    \n",
    "    if polygon1.area >= polygon2.area:\n",
    "        \n",
    "        prime_idx = 0\n",
    "        secondary_idx = 1\n",
    "        included = True\n",
    "        \n",
    "        for each_point in points2:\n",
    "            \n",
    "            if not polygon1.contains(Point(each_point)):\n",
    "                included = False\n",
    "                break\n",
    "    else:\n",
    "        prime_idx = 1\n",
    "        secondary_idx = 0\n",
    "        included = True\n",
    "        \n",
    "        for each_point in points1:\n",
    "            \n",
    "            if not polygon2.contains(Point(each_point)):\n",
    "                included = False\n",
    "                break\n",
    "                \n",
    "    return prime_idx, secondary_idx, included"
   ]
  },
  {
   "cell_type": "code",
   "execution_count": 4,
   "metadata": {},
   "outputs": [
    {
     "name": "stdout",
     "output_type": "stream",
     "text": [
      "2000 2000\n",
      "3\n",
      "GeoTIFF\n",
      "(531824.1971763372, 0.0700000002980232, 0.0, 5213904.627148628, 0.0, -0.0700000002980232)\n"
     ]
    }
   ],
   "source": [
    "src_ds = gdal.Open(file, gdal.GA_ReadOnly)\n",
    "gio_transform = src_ds.GetGeoTransform() \n",
    "cols = src_ds.RasterXSize\n",
    "rows = src_ds.RasterYSize\n",
    "bands = src_ds.RasterCount\n",
    "driver = src_ds.GetDriver().LongName\n",
    "\n",
    "print(cols,rows)\n",
    "print(bands)\n",
    "print(driver)\n",
    "print(gio_transform)\n",
    "\n",
    "# In a north up image, padfTransform[1] is the pixel width, and padfTransform[5] is the pixel height. \n",
    "# The upper left corner of the upper left pixel is at position (padfTransform[0],padfTransform[3]).\n",
    "\n",
    "top_left = [gio_transform[0],gio_transform[3]]\n",
    "bottom_right = [gio_transform[0] + cols*gio_transform[1],gio_transform[3]+rows*gio_transform[5]]\n",
    "\n",
    "pixel_size = [gio_transform[1], gio_transform[5]]"
   ]
  },
  {
   "cell_type": "code",
   "execution_count": 759,
   "metadata": {},
   "outputs": [
    {
     "name": "stdout",
     "output_type": "stream",
     "text": [
      "[531824.1971763372, 5213904.627148628]\n",
      "[531964.1971769333, 5213764.627148032]\n"
     ]
    }
   ],
   "source": [
    "print(top_left)\n",
    "print(bottom_right)"
   ]
  },
  {
   "cell_type": "code",
   "execution_count": 762,
   "metadata": {},
   "outputs": [],
   "source": [
    "# load shape file\n",
    "# Ground Truth\n",
    "\n",
    "gt_shape = fiona.open(shape_file)\n",
    "\n",
    "\n",
    "x_range = [top_left[0],bottom_right[0]]\n",
    "y_range = [bottom_right[1],top_left[1]]\n",
    "\n",
    "building_insert = []\n",
    "buliding_delete = []  #hole \n",
    "\n",
    "road_insert = []\n",
    "road_delete = []  # hole (Polygon inside Polygon)\n",
    "\n",
    "for idx,feat in enumerate(gt_shape):  \n",
    "    \n",
    "    # To-Do: Expand the coverage including other geo-data\n",
    "    if feat['geometry']['type'] is not 'Polygon':\n",
    "        continue\n",
    "        \n",
    "    points = feat['geometry']['coordinates']  # To-Do: some feat has multiple polygon -> handle multiple polygons \n",
    "\n",
    "    \n",
    "#     if len(points) == 2:\n",
    "#         break\n",
    "    \n",
    "    \n",
    "    # check whether the points in the image box\n",
    "    if pointInsideImage( points,x_range,y_range):\n",
    "        #print(\"points inside image\")\n",
    "        #break\n",
    "        \n",
    "        if len(points) == 1:\n",
    "            \n",
    "            new_points = convertPoint(points,gio_transform)\n",
    "            \n",
    "            if feat['properties']['fclass'] == 'building':\n",
    "                building_insert.append(new_points)\n",
    "            elif feat['properties']['fclass'] == 'road':\n",
    "                road_insert.append(new_points)\n",
    "                \n",
    "        #To-Do: Check more complex case -> Assumption: Dual polygon -> one should be inside the other polygon\n",
    "        elif len(points) == 2:\n",
    "            print(\"Dual-polygons\")\n",
    "            prime_idx, secondary_idx, included = polyIncludePoly(points[0],points[1])\n",
    "            \n",
    "            if feat['properties']['fclass'] == 'building':\n",
    "                if included == True:\n",
    "                    building_insert.append(convertPoint(points[prime_idx],gio_transform))\n",
    "                    building_delete.append(convertPoint(points[secondary_idx],gio_transform))\n",
    "                else:\n",
    "                    building_insert.append(convertPoint(points[prime_idx],gio_transform))\n",
    "                    building_insert.append(convertPoint(points[secondary_idx],gio_transform))\n",
    "\n",
    "            elif feat['properties']['fclass'] == 'road':\n",
    "                \n",
    "                if included == True:\n",
    "                    road_insert.append(convertPoint(points[prime_idx],gio_transform))\n",
    "                    road_delete.append(convertPoint(points[secondary_idx],gio_transform))\n",
    "                else:\n",
    "                    road_insert.append(convertPoint(points[prime_idx],gio_transform))\n",
    "                    road_delete.append(convertPoint(points[secondary_idx],gio_transform))\n",
    "        else:\n",
    "            print(\"Polygons more than 2, we cannot handle this case.\")"
   ]
  },
  {
   "cell_type": "code",
   "execution_count": 763,
   "metadata": {},
   "outputs": [
    {
     "name": "stdout",
     "output_type": "stream",
     "text": [
      "[array([[[1903, 1281],\n",
      "        [2082, 1165],\n",
      "        [2243, 1437],\n",
      "        [2038, 1527],\n",
      "        [1903, 1281]]]), array([[[1806, 1050],\n",
      "        [1924,  993],\n",
      "        [1983, 1113],\n",
      "        [1865, 1171],\n",
      "        [1806, 1050]]]), array([[[1664,  608],\n",
      "        [1718,  599],\n",
      "        [1805,  582],\n",
      "        [2092,  527],\n",
      "        [2223,  502],\n",
      "        [2255,  679],\n",
      "        [1696,  781],\n",
      "        [1664,  608]]]), array([[[1310, -255],\n",
      "        [1392, -271],\n",
      "        [1501, -292],\n",
      "        [1550,  -12],\n",
      "        [1373,   19],\n",
      "        [1310, -255]]]), array([[[1373,   19],\n",
      "        [1550,  -12],\n",
      "        [1589,  205],\n",
      "        [1413,  237],\n",
      "        [1373,   19]]]), array([[[   1,  487],\n",
      "        [ 195,  273],\n",
      "        [ 135,   65],\n",
      "        [ 409,  -29],\n",
      "        [ 466,  126],\n",
      "        [ 626,  -60],\n",
      "        [ 862, -200],\n",
      "        [ 890, -147],\n",
      "        [ 934,  -66],\n",
      "        [ 636,  225],\n",
      "        [ 582,  623],\n",
      "        [ 345,  513],\n",
      "        [ 206,  657],\n",
      "        [  61,  677],\n",
      "        [   1,  487]]]), array([[[ 922, 1253],\n",
      "        [1040, 1263],\n",
      "        [1341, 1139],\n",
      "        [1075,  703],\n",
      "        [1260,  593],\n",
      "        [1648, 1245],\n",
      "        [1091, 1457],\n",
      "        [ 982, 1403],\n",
      "        [ 922, 1253]]]), array([[[ 982, 1403],\n",
      "        [1091, 1457],\n",
      "        [1648, 1245],\n",
      "        [1784, 1444],\n",
      "        [1579, 1524],\n",
      "        [1544, 1488],\n",
      "        [1190, 1611],\n",
      "        [1194, 1678],\n",
      "        [1023, 1743],\n",
      "        [ 982, 1403]]]), array([[[1215, 1887],\n",
      "        [1419, 1766],\n",
      "        [1509, 1917],\n",
      "        [1633, 1843],\n",
      "        [1647, 1867],\n",
      "        [1725, 1997],\n",
      "        [1532, 2112],\n",
      "        [1518, 2088],\n",
      "        [1461, 2122],\n",
      "        [1454, 2110],\n",
      "        [1376, 2157],\n",
      "        [1215, 1887]]]), array([[[1647, 1867],\n",
      "        [1777, 1790],\n",
      "        [1790, 1811],\n",
      "        [1815, 1796],\n",
      "        [1753, 1693],\n",
      "        [1887, 1613],\n",
      "        [2073, 1921],\n",
      "        [1886, 2033],\n",
      "        [1828, 1936],\n",
      "        [1725, 1997],\n",
      "        [1647, 1867]]]), array([[[ 531, 2108],\n",
      "        [ 537, 1359],\n",
      "        [ 701, 1360],\n",
      "        [ 695, 2109],\n",
      "        [ 531, 2108]]]), array([[[ 183, 1936],\n",
      "        [ 310, 1921],\n",
      "        [ 339, 2181],\n",
      "        [ 220, 2201],\n",
      "        [ 183, 1936]]]), array([[[ 275,  912],\n",
      "        [ 466,  889],\n",
      "        [ 503, 1273],\n",
      "        [ 311, 1294],\n",
      "        [ 275,  912]]]), array([[[ 133, 1605],\n",
      "        [ 299, 1576],\n",
      "        [ 339, 1848],\n",
      "        [ 168, 1871],\n",
      "        [ 133, 1605]]]), array([[[ 706, 1185],\n",
      "        [ 748, 1179],\n",
      "        [ 744,  583],\n",
      "        [ 790,  539],\n",
      "        [1114,  234],\n",
      "        [1132,  234],\n",
      "        [1192,  408],\n",
      "        [ 924,  659],\n",
      "        [ 922, 1253],\n",
      "        [ 712, 1248],\n",
      "        [ 706, 1185]]])]\n"
     ]
    }
   ],
   "source": [
    "print(building_insert)"
   ]
  },
  {
   "cell_type": "code",
   "execution_count": 764,
   "metadata": {},
   "outputs": [
    {
     "data": {
      "text/plain": [
       "True"
      ]
     },
     "execution_count": 764,
     "metadata": {},
     "output_type": "execute_result"
    }
   ],
   "source": [
    "img = np.zeros((rows,cols), dtype=np.uint8)\n",
    "cv2.fillPoly(img,building_insert,(255))\n",
    "cv2.fillPoly(img,buliding_delete,(0))\n",
    "\n",
    "cv2.imwrite('test.tif',img)"
   ]
  },
  {
   "cell_type": "code",
   "execution_count": 694,
   "metadata": {},
   "outputs": [],
   "source": [
    "# my_dpi = 96\n",
    "\n",
    "# rows = 2000\n",
    "# cols = 2000\n",
    "# axis_ratio = 1.32 # 2000 x 2000 pixels\n",
    "\n",
    "# fig,ax = plt.subplots(figsize=(rows*axis_ratio/my_dpi,cols*axis_ratio/my_dpi),dpi = my_dpi) \n",
    "# ax.set_aspect('equal')\n",
    "# # plt.xlim([top_left[0],bottom_right[0]])\n",
    "# # plt.ylim([bottom_right[1],top_left[1]])\n",
    "# # plt.xticks([]),plt.yticks([])\n",
    "# # plt.axis('off')\n",
    "# ax.add_collection(p)\n",
    "\n",
    "# plt.xlim([top_left[0],bottom_right[0]])\n",
    "# plt.ylim([bottom_right[1],top_left[1]])\n",
    "# plt.xticks([]),plt.yticks([])\n",
    "# plt.axis('off')\n",
    "# fig.savefig('tmp.png', bbox_inches='tight', pad_inches = 0,dpi=my_dpi)\n",
    "# #fig.savefig('test2.png', pad_inches = 0,dpi=my_dpi)"
   ]
  },
  {
   "cell_type": "code",
   "execution_count": 520,
   "metadata": {},
   "outputs": [
    {
     "data": {
      "text/plain": [
       "True"
      ]
     },
     "execution_count": 520,
     "metadata": {},
     "output_type": "execute_result"
    }
   ],
   "source": [
    "# im = cv2.imread('tmp.png')\n",
    "# mask_data = 255-cv2.cvtColor(im, cv2.COLOR_BGR2GRAY)\n",
    "# mask_data = mask_data > 50\n",
    "# cv2.imwrite('output.png',mask_data*255)"
   ]
  },
  {
   "cell_type": "code",
   "execution_count": 678,
   "metadata": {},
   "outputs": [
    {
     "name": "stdout",
     "output_type": "stream",
     "text": [
      "(300, 300)\n"
     ]
    },
    {
     "data": {
      "text/plain": [
       "array([[0, 0, 0, ..., 0, 0, 0],\n",
       "       [0, 0, 0, ..., 0, 0, 0],\n",
       "       [0, 0, 0, ..., 0, 0, 0],\n",
       "       ...,\n",
       "       [0, 0, 0, ..., 0, 0, 0],\n",
       "       [0, 0, 0, ..., 0, 0, 0],\n",
       "       [0, 0, 0, ..., 0, 0, 0]], dtype=uint8)"
      ]
     },
     "execution_count": 678,
     "metadata": {},
     "output_type": "execute_result"
    }
   ],
   "source": [
    "# opencv polygon mask test\n",
    "polygon2 = np.array( [[[10,10],[20,10],[20,0],[10,-10]],[[20,20],[30,30],[30,1],[30,5]]], dtype=np.int32 )\n",
    "\n",
    "polygon3 = np.array( [[[15,7],[17,5],[13,2]]],dtype=np.int32)\n",
    "img = np.zeros((width,height), dtype=np.uint8)\n",
    "print(img.shape)\n",
    "test = cv2.fillPoly(img,polygon2,(255))\n",
    "cv2.fillPoly(img,polygon3,(0))\n"
   ]
  },
  {
   "cell_type": "code",
   "execution_count": 679,
   "metadata": {},
   "outputs": [
    {
     "data": {
      "text/plain": [
       "<matplotlib.image.AxesImage at 0x121ec9b70>"
      ]
     },
     "execution_count": 679,
     "metadata": {},
     "output_type": "execute_result"
    },
    {
     "data": {
      "image/png": "[encoded data removed]",
      "text/plain": [
       "<Figure size 432x288 with 1 Axes>"
      ]
     },
     "metadata": {},
     "output_type": "display_data"
    }
   ],
   "source": [
    "plt.imshow(img)"
   ]
  },
  {
   "cell_type": "code",
   "execution_count": 627,
   "metadata": {},
   "outputs": [
    {
     "name": "stdout",
     "output_type": "stream",
     "text": [
      "[[(531957.3891942608, 5213814.977902536), (531969.9556634518, 5213823.069174976), (531981.2409328335, 5213804.026527186), (531966.8882488261, 5213797.73705152), (531957.3891942608, 5213814.977902536)]]\n"
     ]
    }
   ],
   "source": [
    "print(points)"
   ]
  },
  {
   "cell_type": "code",
   "execution_count": 628,
   "metadata": {},
   "outputs": [
    {
     "name": "stdout",
     "output_type": "stream",
     "text": [
      "[531824.1971763372, 5213904.627148628]\n",
      "[531964.1971769333, 5213764.627148032]\n"
     ]
    }
   ],
   "source": [
    "print(top_left)\n",
    "print(bottom_right)"
   ]
  },
  {
   "cell_type": "code",
   "execution_count": 630,
   "metadata": {},
   "outputs": [
    {
     "data": {
      "text/plain": [
       "1902.7431050930472"
      ]
     },
     "execution_count": 630,
     "metadata": {},
     "output_type": "execute_result"
    }
   ],
   "source": [
    "(531957.3891942608-531824.1971763372)/0.0700000002980232"
   ]
  },
  {
   "cell_type": "code",
   "execution_count": 634,
   "metadata": {},
   "outputs": [
    {
     "data": {
      "text/plain": [
       "1280.7035101467866"
      ]
     },
     "execution_count": 634,
     "metadata": {},
     "output_type": "execute_result"
    }
   ],
   "source": [
    "(5213814.977902536-5213904.627148628)/-0.0700000002980232"
   ]
  },
  {
   "cell_type": "code",
   "execution_count": 637,
   "metadata": {},
   "outputs": [
    {
     "ename": "TypeError",
     "evalue": "unsupported operand type(s) for -: 'list' and 'list'",
     "output_type": "error",
     "traceback": [
      "\u001b[0;31m---------------------------------------------------------------------------\u001b[0m",
      "\u001b[0;31mTypeError\u001b[0m                                 Traceback (most recent call last)",
      "\u001b[0;32m<ipython-input-637-afe7946ee226>\u001b[0m in \u001b[0;36m<module>\u001b[0;34m()\u001b[0m\n\u001b[0;32m----> 1\u001b[0;31m \u001b[0mpoints\u001b[0m\u001b[0;34m[\u001b[0m\u001b[0;36m0\u001b[0m\u001b[0;34m]\u001b[0m\u001b[0;34m-\u001b[0m\u001b[0mtop_left\u001b[0m\u001b[0;34m\u001b[0m\u001b[0m\n\u001b[0m",
      "\u001b[0;31mTypeError\u001b[0m: unsupported operand type(s) for -: 'list' and 'list'"
     ]
    }
   ],
   "source": [
    "points[0]-top_left"
   ]
  },
  {
   "cell_type": "code",
   "execution_count": 647,
   "metadata": {},
   "outputs": [
    {
     "data": {
      "text/plain": [
       "[(531957.3891942608, 5213814.977902536),\n",
       " (531969.9556634518, 5213823.069174976),\n",
       " (531981.2409328335, 5213804.026527186),\n",
       " (531966.8882488261, 5213797.73705152),\n",
       " (531957.3891942608, 5213814.977902536)]"
      ]
     },
     "execution_count": 647,
     "metadata": {},
     "output_type": "execute_result"
    }
   ],
   "source": [
    "points[0]"
   ]
  },
  {
   "cell_type": "code",
   "execution_count": 651,
   "metadata": {},
   "outputs": [
    {
     "name": "stdout",
     "output_type": "stream",
     "text": [
      "[[ 531957.38919426 5213814.97790254]\n",
      " [ 531969.95566345 5213823.06917498]\n",
      " [ 531981.24093283 5213804.02652719]\n",
      " [ 531966.88824883 5213797.73705152]\n",
      " [ 531957.38919426 5213814.97790254]]\n"
     ]
    }
   ],
   "source": [
    "myarray = np.asarray(points[0])\n",
    "tmp = tmp + 0.5\n",
    "tmp.astype(int)\n",
    "print(myarray)"
   ]
  },
  {
   "cell_type": "code",
   "execution_count": 670,
   "metadata": {},
   "outputs": [],
   "source": [
    "tmp = (myarray-top_left)/pixel_size"
   ]
  },
  {
   "cell_type": "code",
   "execution_count": 671,
   "metadata": {},
   "outputs": [
    {
     "name": "stdout",
     "output_type": "stream",
     "text": [
      "[[1902.74310509 1280.70351015]\n",
      " [2082.26409277 1165.11390436]\n",
      " [2243.48222611 1437.15172877]\n",
      " [2038.44388402 1527.00138077]\n",
      " [1902.74310509 1280.70351015]]\n"
     ]
    }
   ],
   "source": [
    "print(tmp)"
   ]
  },
  {
   "cell_type": "code",
   "execution_count": 672,
   "metadata": {},
   "outputs": [],
   "source": [
    "tmp = tmp + 0.5"
   ]
  },
  {
   "cell_type": "code",
   "execution_count": 673,
   "metadata": {},
   "outputs": [
    {
     "data": {
      "text/plain": [
       "array([[1903, 1281],\n",
       "       [2082, 1165],\n",
       "       [2243, 1437],\n",
       "       [2038, 1527],\n",
       "       [1903, 1281]])"
      ]
     },
     "execution_count": 673,
     "metadata": {},
     "output_type": "execute_result"
    }
   ],
   "source": [
    "tmp.astype(int)"
   ]
  },
  {
   "cell_type": "code",
   "execution_count": 686,
   "metadata": {},
   "outputs": [
    {
     "data": {
      "text/plain": [
       "15"
      ]
     },
     "execution_count": 686,
     "metadata": {},
     "output_type": "execute_result"
    }
   ],
   "source": [
    "len(building_insert)"
   ]
  },
  {
   "cell_type": "code",
   "execution_count": 687,
   "metadata": {},
   "outputs": [],
   "source": [
    "img = np.zeros((rows,cols), dtype=np.uint8)"
   ]
  },
  {
   "cell_type": "code",
   "execution_count": 688,
   "metadata": {},
   "outputs": [
    {
     "data": {
      "text/plain": [
       "array([[0, 0, 0, ..., 0, 0, 0],\n",
       "       [0, 0, 0, ..., 0, 0, 0],\n",
       "       [0, 0, 0, ..., 0, 0, 0],\n",
       "       ...,\n",
       "       [0, 0, 0, ..., 0, 0, 0],\n",
       "       [0, 0, 0, ..., 0, 0, 0],\n",
       "       [0, 0, 0, ..., 0, 0, 0]], dtype=uint8)"
      ]
     },
     "execution_count": 688,
     "metadata": {},
     "output_type": "execute_result"
    }
   ],
   "source": [
    "cv2.fillPoly(img,building_insert,(255))"
   ]
  },
  {
   "cell_type": "code",
   "execution_count": 689,
   "metadata": {},
   "outputs": [
    {
     "data": {
      "text/plain": [
       "<matplotlib.image.AxesImage at 0x107d109b0>"
      ]
     },
     "execution_count": 689,
     "metadata": {},
     "output_type": "execute_result"
    },
    {
     "data": {
      "image/png": "[encoded data removed]",
      "text/plain": [
       "<Figure size 432x288 with 1 Axes>"
      ]
     },
     "metadata": {},
     "output_type": "display_data"
    }
   ],
   "source": [
    "plt.imshow(img)"
   ]
  },
  {
   "cell_type": "code",
   "execution_count": 693,
   "metadata": {},
   "outputs": [
    {
     "name": "stdout",
     "output_type": "stream",
     "text": [
      "[[(533564.4828330926, 5212700.906501422), (533588.298287575, 5212713.821140644), (533611.1976514322, 5212726.241718189), (533618.3211878311, 5212716.658072599), (533632.2509938033, 5212697.211183463), (533642.7079669309, 5212682.27880788), (533631.0443571366, 5212675.62271338), (533626.0482755795, 5212672.882841907), (533610.574988928, 5212664.49381295), (533609.6514612352, 5212663.988499695), (533590.0524555908, 5212653.353570395), (533575.4229655978, 5212646.125166502), (533570.3123550218, 5212673.056668305), (533570.1407242756, 5212673.866954862), (533564.4828330926, 5212700.906501422)], [(533579.2507085564, 5212690.343590252), (533582.34428495, 5212676.3585685175), (533583.4586712663, 5212671.308406736), (533585.2445936275, 5212662.983676605), (533624.7289649944, 5212683.277237523), (533619.7384265655, 5212690.29470438), (533609.0684804756, 5212705.303706889), (533596.1737386585, 5212698.829639776), (533579.2507085564, 5212690.343590252)]]\n"
     ]
    }
   ],
   "source": [
    "print(points)"
   ]
  },
  {
   "cell_type": "code",
   "execution_count": 711,
   "metadata": {},
   "outputs": [
    {
     "name": "stdout",
     "output_type": "stream",
     "text": [
      "True\n"
     ]
    }
   ],
   "source": [
    "point = Point(0.5, 0.5)\n",
    "polygon = Polygon([(0, 0), (0, 1), (1, 1), (1, 0)])\n",
    "print(polygon.contains(point))"
   ]
  },
  {
   "cell_type": "code",
   "execution_count": 739,
   "metadata": {},
   "outputs": [],
   "source": [
    "polygon2 = Polygon(points[0])"
   ]
  },
  {
   "cell_type": "code",
   "execution_count": 713,
   "metadata": {},
   "outputs": [
    {
     "name": "stdout",
     "output_type": "stream",
     "text": [
      "POLYGON ((0 0, 0 1, 1 1, 1 0, 0 0))\n"
     ]
    }
   ],
   "source": [
    "print(polygon)"
   ]
  },
  {
   "cell_type": "code",
   "execution_count": 710,
   "metadata": {},
   "outputs": [
    {
     "name": "stdout",
     "output_type": "stream",
     "text": [
      "POLYGON ((533564.4828330926 5212700.906501422, 533588.298287575 5212713.821140644, 533611.1976514322 5212726.241718189, 533618.3211878311 5212716.658072599, 533632.2509938033 5212697.211183463, 533642.7079669309 5212682.27880788, 533631.0443571366 5212675.62271338, 533626.0482755795 5212672.882841907, 533610.574988928 5212664.49381295, 533609.6514612352 5212663.988499695, 533590.0524555908 5212653.353570395, 533575.4229655978 5212646.125166502, 533570.3123550218 5212673.056668305, 533570.1407242756 5212673.866954862, 533564.4828330926 5212700.906501422))\n"
     ]
    }
   ],
   "source": [
    "print(polygon)"
   ]
  },
  {
   "cell_type": "code",
   "execution_count": 715,
   "metadata": {},
   "outputs": [
    {
     "data": {
      "text/plain": [
       "(533579.2507085564, 5212690.343590252)"
      ]
     },
     "execution_count": 715,
     "metadata": {},
     "output_type": "execute_result"
    }
   ],
   "source": [
    "points[1][0]"
   ]
  },
  {
   "cell_type": "code",
   "execution_count": 741,
   "metadata": {},
   "outputs": [
    {
     "data": {
      "text/plain": [
       "True"
      ]
     },
     "execution_count": 741,
     "metadata": {},
     "output_type": "execute_result"
    }
   ],
   "source": [
    "polygon2.contains(Point(points[1][1]))"
   ]
  },
  {
   "cell_type": "code",
   "execution_count": 743,
   "metadata": {},
   "outputs": [
    {
     "name": "stdout",
     "output_type": "stream",
     "text": [
      "3495.6330665059704\n"
     ]
    }
   ],
   "source": [
    "print(polygon2.area)\n"
   ]
  },
  {
   "cell_type": "code",
   "execution_count": 722,
   "metadata": {},
   "outputs": [],
   "source": [
    "poly1 = convertPoint(points[0],gio_transform)\n",
    "poly2 = convertPoint(points[1],gio_transform) "
   ]
  },
  {
   "cell_type": "code",
   "execution_count": 737,
   "metadata": {},
   "outputs": [
    {
     "data": {
      "text/plain": [
       "array([[0, 0, 0, ..., 0, 0, 0],\n",
       "       [0, 0, 0, ..., 0, 0, 0],\n",
       "       [0, 0, 0, ..., 0, 0, 0],\n",
       "       ...,\n",
       "       [0, 0, 0, ..., 0, 0, 0],\n",
       "       [0, 0, 0, ..., 0, 0, 0],\n",
       "       [0, 0, 0, ..., 0, 0, 0]], dtype=uint8)"
      ]
     },
     "execution_count": 737,
     "metadata": {},
     "output_type": "execute_result"
    }
   ],
   "source": [
    "img = np.zeros((rows,cols), dtype=np.uint8)\n",
    "cv2.fillPoly(img,[poly1-[24000,17000]],(125))\n",
    "cv2.fillPoly(img,[poly2-[24000,17000]],(255))"
   ]
  },
  {
   "cell_type": "code",
   "execution_count": 738,
   "metadata": {},
   "outputs": [
    {
     "data": {
      "text/plain": [
       "<matplotlib.image.AxesImage at 0x120b3cda0>"
      ]
     },
     "execution_count": 738,
     "metadata": {},
     "output_type": "execute_result"
    },
    {
     "data": {
      "image/png": "[encoded data removed]",
      "text/plain": [
       "<Figure size 432x288 with 1 Axes>"
      ]
     },
     "metadata": {},
     "output_type": "display_data"
    }
   ],
   "source": [
    "plt.imshow(img)"
   ]
  },
  {
   "cell_type": "code",
   "execution_count": 725,
   "metadata": {},
   "outputs": [
    {
     "data": {
      "text/plain": [
       "array([[24861, 17196],\n",
       "       [25201, 17012],\n",
       "       [25529, 16834],\n",
       "       [25630, 16971],\n",
       "       [25829, 17249],\n",
       "       [25979, 17462],\n",
       "       [25812, 17557],\n",
       "       [25741, 17596],\n",
       "       [25520, 17716],\n",
       "       [25506, 17723],\n",
       "       [25227, 17875],\n",
       "       [25018, 17979],\n",
       "       [24945, 17594],\n",
       "       [24942, 17582],\n",
       "       [24861, 17196]])"
      ]
     },
     "execution_count": 725,
     "metadata": {},
     "output_type": "execute_result"
    }
   ],
   "source": [
    "poly1"
   ]
  },
  {
   "cell_type": "code",
   "execution_count": 749,
   "metadata": {},
   "outputs": [
    {
     "data": {
      "text/plain": [
       "(0, True)"
      ]
     },
     "execution_count": 749,
     "metadata": {},
     "output_type": "execute_result"
    }
   ],
   "source": [
    "polyIncludePoly(points[0],points[1])"
   ]
  },
  {
   "cell_type": "code",
   "execution_count": 765,
   "metadata": {},
   "outputs": [],
   "source": [
    "test = \"tmp.tif\""
   ]
  },
  {
   "cell_type": "code",
   "execution_count": 770,
   "metadata": {},
   "outputs": [
    {
     "ename": "NameError",
     "evalue": "name 'end' is not defined",
     "output_type": "error",
     "traceback": [
      "\u001b[0;31m---------------------------------------------------------------------------\u001b[0m",
      "\u001b[0;31mNameError\u001b[0m                                 Traceback (most recent call last)",
      "\u001b[0;32m<ipython-input-770-000a6929f940>\u001b[0m in \u001b[0;36m<module>\u001b[0;34m()\u001b[0m\n\u001b[0;32m----> 1\u001b[0;31m \u001b[0mtest\u001b[0m\u001b[0;34m[\u001b[0m\u001b[0;34m:\u001b[0m\u001b[0mend\u001b[0m\u001b[0;34m-\u001b[0m\u001b[0;36m4\u001b[0m\u001b[0;34m]\u001b[0m\u001b[0;34m\u001b[0m\u001b[0m\n\u001b[0m",
      "\u001b[0;31mNameError\u001b[0m: name 'end' is not defined"
     ]
    }
   ],
   "source": [
    "test[:end-4]"
   ]
  },
  {
   "cell_type": "code",
   "execution_count": 771,
   "metadata": {},
   "outputs": [
    {
     "data": {
      "text/plain": [
       "'.tif'"
      ]
     },
     "execution_count": 771,
     "metadata": {},
     "output_type": "execute_result"
    }
   ],
   "source": [
    "test[-4:]"
   ]
  },
  {
   "cell_type": "code",
   "execution_count": 772,
   "metadata": {},
   "outputs": [
    {
     "data": {
      "text/plain": [
       "'tmp'"
      ]
     },
     "execution_count": 772,
     "metadata": {},
     "output_type": "execute_result"
    }
   ],
   "source": [
    "test[:-4]"
   ]
  },
  {
   "cell_type": "code",
   "execution_count": null,
   "metadata": {},
   "outputs": [],
   "source": []
  }
 ],
 "metadata": {
  "kernelspec": {
   "display_name": "Python 3",
   "language": "python",
   "name": "python3"
  },
  "language_info": {
   "codemirror_mode": {
    "name": "ipython",
    "version": 3
   },
   "file_extension": ".py",
   "mimetype": "text/x-python",
   "name": "python",
   "nbconvert_exporter": "python",
   "pygments_lexer": "ipython3",
   "version": "3.6.5"
  }
 },
 "nbformat": 4,
 "nbformat_minor": 2
}
