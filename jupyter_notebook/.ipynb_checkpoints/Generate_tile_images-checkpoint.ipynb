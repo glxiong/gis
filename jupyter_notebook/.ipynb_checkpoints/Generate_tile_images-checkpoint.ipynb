{
 "cells": [
  {
   "cell_type": "code",
   "execution_count": 79,
   "metadata": {},
   "outputs": [],
   "source": [
    "import cv2\n",
    "from openpyxl import Workbook, load_workbook\n",
    "import os\n",
    "import csv\n",
    "from sklearn.externals import joblib\n",
    "import numpy as np\n",
    "from scipy import ndimage as ndi\n",
    "from scipy.ndimage.morphology import distance_transform_edt"
   ]
  },
  {
   "cell_type": "code",
   "execution_count": 80,
   "metadata": {},
   "outputs": [],
   "source": [
    "meta_file = '/Users/sukryool.kang/data/GIS_data/LosAngeles_2017/building_road_image_files.xlsx'\n",
    "\n",
    "tile_mask_folder = '/Users/sukryool.kang/data/GIS_data/LosAngeles_2017/TILE/mask'\n",
    "tile_img_folder = '/Users/sukryool.kang/data/GIS_data/LosAngeles_2017/TILE/train/images'\n",
    "\n",
    "new_meta_file = '/Users/sukryool.kang/data/GIS_data/LosAngeles_2017/TILE/stage_metadata_new.csv'\n",
    "\n",
    "# 7cm data -> tile_size \n",
    "tile_size = 500\n",
    "\n",
    "if not os.path.exists(tile_img_folder):\n",
    "    os.makedirs(tile_img_folder)\n",
    "    \n",
    "if not os.path.exists(tile_mask_folder):\n",
    "    os.makedirs(tile_mask_folder)\n",
    "    os.makedirs(os.path.join(tile_mask_folder,'masks'))\n",
    "    os.makedirs(os.path.join(tile_mask_folder,'distances'))\n",
    "    os.makedirs(os.path.join(tile_mask_folder,'sizes'))"
   ]
  },
  {
   "cell_type": "code",
   "execution_count": 81,
   "metadata": {},
   "outputs": [],
   "source": [
    "meta_data = load_workbook(filename = meta_file, data_only=True, read_only=True)"
   ]
  },
  {
   "cell_type": "code",
   "execution_count": 82,
   "metadata": {},
   "outputs": [
    {
     "name": "stderr",
     "output_type": "stream",
     "text": [
      "/Users/sukryool.kang/anaconda3/lib/python3.6/site-packages/ipykernel_launcher.py:1: DeprecationWarning: Call to deprecated function get_sheet_by_name (Use wb[sheetname]).\n",
      "  \"\"\"Entry point for launching an IPython kernel.\n"
     ]
    }
   ],
   "source": [
    "building_sheet = meta_data.get_sheet_by_name('Building')"
   ]
  },
  {
   "cell_type": "code",
   "execution_count": 83,
   "metadata": {},
   "outputs": [],
   "source": [
    "def label(mask):\n",
    "    labeled, nr_true = ndi.label(mask)\n",
    "    return labeled"
   ]
  },
  {
   "cell_type": "code",
   "execution_count": 84,
   "metadata": {},
   "outputs": [],
   "source": [
    "def is_on_border(mask, border_width):\n",
    "    return not np.any(mask[border_width:-border_width, border_width:-border_width])"
   ]
  },
  {
   "cell_type": "code",
   "execution_count": 85,
   "metadata": {},
   "outputs": [],
   "source": [
    "def update_distances(dist, mask):\n",
    "    if dist.sum() == 0:\n",
    "        distances = distance_transform_edt(1 - mask)\n",
    "    else:\n",
    "        distances = np.dstack([dist, distance_transform_edt(1 - mask)])\n",
    "    return distances"
   ]
  },
  {
   "cell_type": "code",
   "execution_count": null,
   "metadata": {},
   "outputs": [],
   "source": [
    "def get_size_matrix(mask):\n",
    "    sizes = np.ones_like(mask)\n",
    "    labeled = label(mask)\n",
    "    for label_nr in range(1, labeled.max() + 1):\n",
    "        label_size = (labeled == label_nr).sum()\n",
    "        sizes = np.where(labeled == label_nr, label_size, sizes)\n",
    "    return sizes"
   ]
  },
  {
   "cell_type": "code",
   "execution_count": 86,
   "metadata": {},
   "outputs": [],
   "source": [
    "def get_distance_matrix(mask):\n",
    "    \n",
    "    distances = np.zeros_like(mask)\n",
    "    labeled = label(mask)\n",
    "    \n",
    "    for label_nr in range(1,labeled.max()+1):\n",
    "        each_mask = np.zeros_like(mask)\n",
    "        each_mask = np.where(labeled == label_nr,1,each_mask)\n",
    "        \n",
    "        if is_on_border(each_mask,2):\n",
    "            continue\n",
    "        \n",
    "        distances = update_distances(distances,each_mask)\n",
    "                \n",
    "    return distances"
   ]
  },
  {
   "cell_type": "code",
   "execution_count": 87,
   "metadata": {},
   "outputs": [],
   "source": [
    "def clean_distances(distances):\n",
    "    if len(distances.shape) < 3:\n",
    "        distances = np.dstack([distances, distances])\n",
    "    else:\n",
    "        distances.sort(axis=2)\n",
    "        distances = distances[:, :, :2]\n",
    "    second_nearest_distances = distances[:, :, 1]\n",
    "    distances_clean = np.sum(distances, axis=2)\n",
    "    return distances_clean.astype(np.float16), second_nearest_distances"
   ]
  },
  {
   "cell_type": "code",
   "execution_count": 88,
   "metadata": {},
   "outputs": [],
   "source": [
    "def CreateTileImages(img_folder,mask_folder,img_file,tile_size,tile_img_folder,tile_mask_folder):\n",
    "    \n",
    "    status = True\n",
    "    \n",
    "    rgb_image = cv2.imread(os.path.join(img_folder,img_file))\n",
    "    mask_image = cv2.imread(os.path.join(mask_folder,img_file),0)\n",
    "    \n",
    "    row,col = mask_image.shape\n",
    "    \n",
    "    idx = []\n",
    "    img_files = []\n",
    "    mask_files = []\n",
    "    \n",
    "    \n",
    "    if row%tile_size != 0 or col%tile_size != 0:\n",
    "        status = False\n",
    "        return status, idx, img_files,mask_files\n",
    "\n",
    "    count = 0\n",
    "    \n",
    "    for i in range(int(row/tile_size)): #y axis\n",
    "        for j in range(int(col/tile_size)): # x axis\n",
    "            rgb_patch  = rgb_image[tile_size*i:tile_size*(1+i), tile_size*j:tile_size*(1+j),:]\n",
    "            mask_patch = mask_image[tile_size*i:tile_size*(1+i), tile_size*j:tile_size*(1+j)]\n",
    "            \n",
    "            rgb_img_file = os.path.join( tile_img_folder,img_file[:-4] + \"_\" +  str(count).zfill(3) + '.tif')\n",
    "            mask_file = os.path.join( tile_mask_folder+'/masks',img_file[:-4] + \"_\" +  str(count).zfill(3) + '.png')\n",
    "            size_file = os.path.join( tile_mask_folder+'/sizes',img_file[:-4] + \"_\" +  str(count).zfill(3) )\n",
    "            distance_file = os.path.join( tile_mask_folder+'/distances',img_file[:-4] + \"_\" +  str(count).zfill(3) )\n",
    "            \n",
    "            cv2.imwrite(rgb_img_file,rgb_patch)\n",
    "            cv2.imwrite(mask_file,mask_patch)\n",
    "            \n",
    "            # sizes \n",
    "            sizes = get_size_matrix(mask_patch)\n",
    "            joblib.dump(sizes, size_file)\n",
    "            \n",
    "            # distances\n",
    "            \n",
    "            distances = get_distance_matrix(mask_patch)\n",
    "            distances, second_nearest_distances = clean_distances(distances)\n",
    "            joblib.dump(distances, distance_file)\n",
    "            \n",
    "            idx.append(count)\n",
    "            img_files.append(rgb_img_file)\n",
    "            mask_files.append(mask_file)\n",
    "            count = count + 1\n",
    "\n",
    "    return status, idx, img_files,mask_files\n",
    "            \n",
    "            "
   ]
  },
  {
   "cell_type": "code",
   "execution_count": 89,
   "metadata": {},
   "outputs": [],
   "source": [
    "def write_csv(new_meta_file, idx, img_files,mask_files,int_c):\n",
    "    \n",
    "    with open(new_meta_file,'a') as f:\n",
    "        writer = csv.writer(f)\n",
    "        for i in range(len(idx)):\n",
    "            writer.writerows([[str(int_c+i),img_files[i],mask_files[i],str(0),str(1),str(0)]])\n",
    "        \n",
    "        \n",
    "    return int_c + len(idx)    \n",
    "    "
   ]
  },
  {
   "cell_type": "code",
   "execution_count": 90,
   "metadata": {},
   "outputs": [],
   "source": [
    "with open(new_meta_file,'a') as f:\n",
    "    writer = csv.writer(f)\n",
    "    writer.writerows([['ImageId','file_path_image','file_path_mask_eroded_0_dilated_0','is_test','is_train','is_valid','n_buildings'] ]) \n",
    "\n",
    "    \n",
    "count = 0    \n",
    "for each_row in building_sheet:\n",
    "    if each_row[3].value == 'o':\n",
    "#         img_file  = [each_row[0].value,each_row[2].value]\n",
    "#         mask_file = [each_row[1].value,each_row[2].value] # building = 1, road = 2\n",
    "        status, idx, img_files,mask_files = CreateTileImages(each_row[0].value,each_row[1].value,each_row[2].value,tile_size,tile_img_folder,tile_mask_folder )\n",
    "    \n",
    "        if status == True:\n",
    "            count = write_csv(new_meta_file, idx, img_files,mask_files,count)\n",
    "        else:\n",
    "            print(\"Error - need to check\")"
   ]
  },
  {
   "cell_type": "code",
   "execution_count": 43,
   "metadata": {},
   "outputs": [
    {
     "name": "stdout",
     "output_type": "stream",
     "text": [
      "(<ReadOnlyCell 'Building'.A472>, <ReadOnlyCell 'Building'.B472>, <ReadOnlyCell 'Building'.C472>, <EmptyCell>, <EmptyCell>, <ReadOnlyCell 'Building'.F472>)\n"
     ]
    }
   ],
   "source": [
    "print(each_row)"
   ]
  },
  {
   "cell_type": "code",
   "execution_count": null,
   "metadata": {},
   "outputs": [],
   "source": [
    "patch_image = []\n",
    "patch_size = 600\n",
    "patch_size = int(600/4.3)\n",
    "patch_size = 128\n",
    "count = 0\n",
    "    \n",
    "img_shape = image.shape\n",
    "output_image = np.zeros([img_shape[0],img_shape[1],3],dtype=np.uint8)\n",
    "row_idx = []\n",
    "col_idx = []\n",
    "p_total = []\n",
    "\n",
    "for i in range(int(img_shape[0]/patch_size)): #y axis\n",
    "    for j in range(int(img_shape[1]/patch_size)): # x axis\n",
    "\n",
    "        \n",
    "        patch_image.append(image[0+patch_size*i:patch_size*(1+i),0+patch_size*j:patch_size*(1+j),:])\n",
    "        row_idx.append(i)\n",
    "        col_idx.append(j)\n",
    "        count = count + 1\n",
    "        \n",
    "        if count == 1: \n",
    "            print(len(patch_image))\n",
    "            predicts = model.detect(patch_image,verbose=1)\n",
    "            \n",
    "            for idx, p in enumerate(predicts):\n",
    "                each_prediction = {'top_left': [patch_size*col_idx[idx],patch_size*row_idx[idx]],'segmentation':p}\n",
    "                p_total.append(each_prediction)\n",
    "                rbg_patch = rgb_image[patch_size*row_idx[idx]:patch_size*(1+row_idx[idx]),patch_size*col_idx[idx]:patch_size*(1+col_idx[idx]),:]\n",
    "                output_image[patch_size*row_idx[idx]:patch_size*(1+row_idx[idx]),patch_size*col_idx[idx]:patch_size*(1+col_idx[idx]),:] =  display_instances(rbg_patch, p['rois'], p['masks'], p['class_ids'], class_names, p['scores'])\n",
    "            \n",
    "            patch_image = []\n",
    "            row_idx = []\n",
    "            col_idx = []\n",
    "            count = 0"
   ]
  },
  {
   "cell_type": "code",
   "execution_count": 52,
   "metadata": {},
   "outputs": [],
   "source": [
    "rgb_image = cv2.imread(img_file)\n",
    "mask_image = cv2.imread(mask_file,0)"
   ]
  },
  {
   "cell_type": "code",
   "execution_count": 60,
   "metadata": {},
   "outputs": [
    {
     "name": "stdout",
     "output_type": "stream",
     "text": [
      "2000 2000\n"
     ]
    }
   ],
   "source": [
    "row,col = mask_image.shape\n",
    "print(row,col)"
   ]
  },
  {
   "cell_type": "code",
   "execution_count": 54,
   "metadata": {},
   "outputs": [
    {
     "data": {
      "text/plain": [
       "(2000, 2000, 3)"
      ]
     },
     "execution_count": 54,
     "metadata": {},
     "output_type": "execute_result"
    }
   ],
   "source": [
    "rgb_image.shape"
   ]
  },
  {
   "cell_type": "code",
   "execution_count": 56,
   "metadata": {},
   "outputs": [
    {
     "data": {
      "text/plain": [
       "<matplotlib.image.AxesImage at 0x122d5cb70>"
      ]
     },
     "execution_count": 56,
     "metadata": {},
     "output_type": "execute_result"
    },
    {
     "data": {
      "image/png": "[encoded data removed]",
      "text/plain": [
       "<Figure size 432x288 with 1 Axes>"
      ]
     },
     "metadata": {},
     "output_type": "display_data"
    }
   ],
   "source": [
    "plt.imshow(mask_image)"
   ]
  },
  {
   "cell_type": "code",
   "execution_count": 57,
   "metadata": {},
   "outputs": [
    {
     "data": {
      "text/plain": [
       "1"
      ]
     },
     "execution_count": 57,
     "metadata": {},
     "output_type": "execute_result"
    }
   ],
   "source": [
    "mask_image.max()"
   ]
  },
  {
   "cell_type": "code",
   "execution_count": 58,
   "metadata": {},
   "outputs": [
    {
     "data": {
      "text/plain": [
       "<matplotlib.image.AxesImage at 0x12417da20>"
      ]
     },
     "execution_count": 58,
     "metadata": {},
     "output_type": "execute_result"
    },
    {
     "data": {
      "image/png": "[encoded data removed]",
      "text/plain": [
       "<Figure size 432x288 with 1 Axes>"
      ]
     },
     "metadata": {},
     "output_type": "display_data"
    }
   ],
   "source": [
    "plt.imshow(rgb_image)"
   ]
  },
  {
   "cell_type": "code",
   "execution_count": 70,
   "metadata": {},
   "outputs": [
    {
     "name": "stdout",
     "output_type": "stream",
     "text": [
      "false\n"
     ]
    }
   ],
   "source": [
    "row = 2100\n",
    "col = 2000\n",
    "tile_size= 500\n",
    "if row%tile_size != 0 or col%tile_size != 0:\n",
    "    print(\"false\")\n",
    "    "
   ]
  },
  {
   "cell_type": "code",
   "execution_count": 63,
   "metadata": {},
   "outputs": [
    {
     "data": {
      "text/plain": [
       "1"
      ]
     },
     "execution_count": 63,
     "metadata": {},
     "output_type": "execute_result"
    }
   ],
   "source": [
    "3%2"
   ]
  },
  {
   "cell_type": "code",
   "execution_count": 64,
   "metadata": {},
   "outputs": [
    {
     "data": {
      "text/plain": [
       "0"
      ]
     },
     "execution_count": 64,
     "metadata": {},
     "output_type": "execute_result"
    }
   ],
   "source": [
    "2000%500"
   ]
  },
  {
   "cell_type": "code",
   "execution_count": 82,
   "metadata": {},
   "outputs": [
    {
     "data": {
      "text/plain": [
       "'001'"
      ]
     },
     "execution_count": 82,
     "metadata": {},
     "output_type": "execute_result"
    }
   ],
   "source": [
    "'1'.zfill(3)"
   ]
  },
  {
   "cell_type": "code",
   "execution_count": 108,
   "metadata": {},
   "outputs": [],
   "source": [
    "test_folder = each_row[1].value\n",
    "test = each_row[2].value"
   ]
  },
  {
   "cell_type": "code",
   "execution_count": 109,
   "metadata": {},
   "outputs": [],
   "source": [
    "count = 1 "
   ]
  },
  {
   "cell_type": "code",
   "execution_count": 110,
   "metadata": {},
   "outputs": [
    {
     "data": {
      "text/plain": [
       "'/Users/sukryool.kang/data/GIS_data/LosAngeles_2017/Mask/000032_000086-RGB-7cm_001.tif'"
      ]
     },
     "execution_count": 110,
     "metadata": {},
     "output_type": "execute_result"
    }
   ],
   "source": [
    "os.path.join(test_folder,test[:-4] + \"_\" +  str(count).zfill(3) + '.tif')"
   ]
  },
  {
   "cell_type": "code",
   "execution_count": 121,
   "metadata": {},
   "outputs": [],
   "source": [
    "with open(new_meta_file,'a') as f:\n",
    "    writer = csv.writer(f)\n",
    "    writer.writerows([['ImageId','file_path_image','file_path_mask_eroded_0_dilated_0','is_test','is_train','is_valid','n_buildings'] ])   \n"
   ]
  },
  {
   "cell_type": "code",
   "execution_count": 91,
   "metadata": {},
   "outputs": [],
   "source": [
    "test = '000032_000086-RGB-7cm_000'"
   ]
  },
  {
   "cell_type": "code",
   "execution_count": 93,
   "metadata": {},
   "outputs": [
    {
     "name": "stdout",
     "output_type": "stream",
     "text": [
      "000032_000086-RGB-7cm_000\n"
     ]
    }
   ],
   "source": [
    "if not test.isdigit():\n",
    "    print(test)"
   ]
  },
  {
   "cell_type": "code",
   "execution_count": 100,
   "metadata": {},
   "outputs": [
    {
     "name": "stdout",
     "output_type": "stream",
     "text": [
      "000032000086000\n",
      "32000086000\n"
     ]
    }
   ],
   "source": [
    "id = test[0:6] + test[7:13] + test[-3:]\n",
    "print(id)\n",
    "print(int(id))"
   ]
  },
  {
   "cell_type": "code",
   "execution_count": null,
   "metadata": {},
   "outputs": [],
   "source": []
  }
 ],
 "metadata": {
  "kernelspec": {
   "display_name": "Python 3",
   "language": "python",
   "name": "python3"
  },
  "language_info": {
   "codemirror_mode": {
    "name": "ipython",
    "version": 3
   },
   "file_extension": ".py",
   "mimetype": "text/x-python",
   "name": "python",
   "nbconvert_exporter": "python",
   "pygments_lexer": "ipython3",
   "version": "3.6.5"
  }
 },
 "nbformat": 4,
 "nbformat_minor": 2
}
