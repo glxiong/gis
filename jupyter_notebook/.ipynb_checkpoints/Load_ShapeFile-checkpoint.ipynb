{
 "cells": [
  {
   "cell_type": "code",
   "execution_count": 1,
   "metadata": {},
   "outputs": [],
   "source": [
    "import fiona"
   ]
  },
  {
   "cell_type": "code",
   "execution_count": 2,
   "metadata": {},
   "outputs": [],
   "source": [
    "# building shape file\n",
    "shape_file = '/Users/sukryool.kang/Projects/Geospatial Project/Data_For AI Team/LA__Road_Ground_truth/Vector_LA1-32-33-35-36-37/LA1-32-33-35-36-37.shp'\n",
    "\n",
    "#road shape file\n",
    "shape_file = '/Users/sukryool.kang/data/GIS_data/LosAngeles_2017/Phase 1 Road Polygon/Phase 1 Road Polygon.shp'\n"
   ]
  },
  {
   "cell_type": "code",
   "execution_count": 3,
   "metadata": {},
   "outputs": [],
   "source": [
    "gt_shape = fiona.open(shape_file)\n",
    "\n",
    "for idx,feat in enumerate(gt_shape):\n",
    "    break"
   ]
  },
  {
   "cell_type": "code",
   "execution_count": 4,
   "metadata": {},
   "outputs": [
    {
     "name": "stdout",
     "output_type": "stream",
     "text": [
      "{'type': 'Feature', 'id': '0', 'geometry': {'type': 'Polygon', 'coordinates': [[(379933.04825826833, 3762948.420827571), (379922.04814001144, 3762948.4001117176), (379922.0500745137, 3762949.01984001), (379933.04973792576, 3762948.894843835), (379933.04825826833, 3762948.420827571)]]}, 'properties': OrderedDict([('osm_id', '159705428'), ('code', 5114), ('fclass', 'secondary'), ('name', 'Melrose Avenue'), ('ref', None), ('oneway', 'B'), ('maxspeed', 0), ('layer', 0), ('bridge', 'F'), ('tunnel', 'F'), ('path', 'C:\\\\Sans\\\\AI Project\\\\Geofabrik data\\\\08.01.2019\\\\Road_Types\\\\fclass_secondary_buff.shp')])}\n"
     ]
    }
   ],
   "source": [
    "print(feat)"
   ]
  },
  {
   "cell_type": "code",
   "execution_count": null,
   "metadata": {},
   "outputs": [],
   "source": []
  }
 ],
 "metadata": {
  "kernelspec": {
   "display_name": "Python 3",
   "language": "python",
   "name": "python3"
  },
  "language_info": {
   "codemirror_mode": {
    "name": "ipython",
    "version": 3
   },
   "file_extension": ".py",
   "mimetype": "text/x-python",
   "name": "python",
   "nbconvert_exporter": "python",
   "pygments_lexer": "ipython3",
   "version": "3.6.5"
  }
 },
 "nbformat": 4,
 "nbformat_minor": 2
}
