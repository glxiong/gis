{
 "cells": [
  {
   "cell_type": "code",
   "execution_count": 148,
   "metadata": {},
   "outputs": [],
   "source": [
    "from pycocotools import mask as cocomask\n",
    "from pycocotools.coco import COCO\n",
    "import numpy as np\n",
    "from scipy.ndimage.morphology import distance_transform_edt\n",
    "from scipy import ndimage as ndi\n",
    "import matplotlib.pyplot as plt"
   ]
  },
  {
   "cell_type": "code",
   "execution_count": 149,
   "metadata": {},
   "outputs": [],
   "source": [
    "def clean_distances(distances):\n",
    "    if len(distances.shape) < 3:\n",
    "        distances = np.dstack([distances, distances])\n",
    "    else:\n",
    "        distances.sort(axis=2)\n",
    "        distances = distances[:, :, :2]\n",
    "    second_nearest_distances = distances[:, :, 1]\n",
    "    distances_clean = np.sum(distances, axis=2)\n",
    "    return distances_clean.astype(np.float16), second_nearest_distances\n"
   ]
  },
  {
   "cell_type": "code",
   "execution_count": 150,
   "metadata": {},
   "outputs": [],
   "source": [
    "def label(mask):\n",
    "    labeled, nr_true = ndi.label(mask)\n",
    "    return labeled"
   ]
  },
  {
   "cell_type": "code",
   "execution_count": 151,
   "metadata": {},
   "outputs": [],
   "source": [
    "def get_size_matrix(mask):\n",
    "    sizes = np.ones_like(mask)\n",
    "    labeled = label(mask)\n",
    "    for label_nr in range(1, labeled.max() + 1):\n",
    "        label_size = (labeled == label_nr).sum()\n",
    "        sizes = np.where(labeled == label_nr, label_size, sizes)\n",
    "    return sizes"
   ]
  },
  {
   "cell_type": "code",
   "execution_count": 152,
   "metadata": {},
   "outputs": [],
   "source": [
    "def update_distances(dist, mask):\n",
    "    if dist.sum() == 0:\n",
    "        distances = distance_transform_edt(1 - mask)\n",
    "    else:\n",
    "        distances = np.dstack([dist, distance_transform_edt(1 - mask)])\n",
    "    return distances\n"
   ]
  },
  {
   "cell_type": "code",
   "execution_count": 153,
   "metadata": {},
   "outputs": [],
   "source": [
    "def is_on_border(mask, border_width):\n",
    "    return not np.any(mask[border_width:-border_width, border_width:-border_width])"
   ]
  },
  {
   "cell_type": "code",
   "execution_count": 154,
   "metadata": {},
   "outputs": [],
   "source": [
    "def overlay_masks_from_annotations(annotations, image_size, distances=None):\n",
    "    mask = np.zeros(image_size)\n",
    "    for ann in annotations:\n",
    "        rle = cocomask.frPyObjects(ann['segmentation'], image_size[0], image_size[1])\n",
    "        m = cocomask.decode(rle)\n",
    "        m = m.reshape(image_size)\n",
    "        \n",
    "        #print(m)\n",
    "\n",
    "        if is_on_border(m, 2):\n",
    "            continue\n",
    "        if distances is not None:\n",
    "            distances = update_distances(distances, m)\n",
    "        mask += m\n",
    "    return np.where(mask > 0, 1, 0).astype('uint8'), distances"
   ]
  },
  {
   "cell_type": "code",
   "execution_count": 155,
   "metadata": {},
   "outputs": [],
   "source": [
    "annotation_file_name = \"/Users/sukryool.kang/data/crowdAI_data/train/annotation-small.json\"\n",
    "category_ids = [None, 100]"
   ]
  },
  {
   "cell_type": "code",
   "execution_count": 156,
   "metadata": {},
   "outputs": [
    {
     "name": "stdout",
     "output_type": "stream",
     "text": [
      "loading annotations into memory...\n",
      "Done (t=0.84s)\n",
      "creating index...\n",
      "index created!\n"
     ]
    }
   ],
   "source": [
    "coco = COCO(annotation_file_name)"
   ]
  },
  {
   "cell_type": "code",
   "execution_count": 157,
   "metadata": {},
   "outputs": [],
   "source": [
    "image_ids = coco.getImgIds()"
   ]
  },
  {
   "cell_type": "code",
   "execution_count": 158,
   "metadata": {},
   "outputs": [
    {
     "data": {
      "text/plain": [
       "8366"
      ]
     },
     "execution_count": 158,
     "metadata": {},
     "output_type": "execute_result"
    }
   ],
   "source": [
    "len(image_ids)"
   ]
  },
  {
   "cell_type": "code",
   "execution_count": 159,
   "metadata": {},
   "outputs": [
    {
     "data": {
      "text/plain": [
       "232566"
      ]
     },
     "execution_count": 159,
     "metadata": {},
     "output_type": "execute_result"
    }
   ],
   "source": [
    "image_ids[0]"
   ]
  },
  {
   "cell_type": "code",
   "execution_count": 160,
   "metadata": {},
   "outputs": [],
   "source": [
    "image_id = image_ids[0]"
   ]
  },
  {
   "cell_type": "code",
   "execution_count": 161,
   "metadata": {},
   "outputs": [],
   "source": [
    "image = coco.loadImgs(image_id)[0]"
   ]
  },
  {
   "cell_type": "code",
   "execution_count": 162,
   "metadata": {},
   "outputs": [],
   "source": [
    "image_size = (image['height'],image['width'])"
   ]
  },
  {
   "cell_type": "code",
   "execution_count": 163,
   "metadata": {},
   "outputs": [],
   "source": [
    "mask_overlayed = np.zeros(image_size).astype('uint8')"
   ]
  },
  {
   "cell_type": "code",
   "execution_count": 164,
   "metadata": {},
   "outputs": [],
   "source": [
    "distances = np.zeros(image_size)"
   ]
  },
  {
   "cell_type": "code",
   "execution_count": 165,
   "metadata": {},
   "outputs": [
    {
     "name": "stdout",
     "output_type": "stream",
     "text": [
      "[[0 0 0 ... 0 0 0]\n",
      " [0 0 0 ... 0 0 0]\n",
      " [0 0 0 ... 0 0 0]\n",
      " ...\n",
      " [0 0 0 ... 0 0 0]\n",
      " [0 0 0 ... 0 0 0]\n",
      " [0 0 0 ... 0 0 0]]\n",
      "[[0 0 0 ... 0 0 0]\n",
      " [0 0 0 ... 0 0 0]\n",
      " [0 0 0 ... 0 0 0]\n",
      " ...\n",
      " [0 0 0 ... 0 0 0]\n",
      " [0 0 0 ... 0 0 0]\n",
      " [0 0 0 ... 0 0 0]]\n",
      "[[0 0 0 ... 0 0 0]\n",
      " [0 0 0 ... 0 0 0]\n",
      " [0 0 0 ... 0 0 0]\n",
      " ...\n",
      " [0 0 0 ... 0 0 0]\n",
      " [0 0 0 ... 0 0 0]\n",
      " [0 0 0 ... 0 0 0]]\n",
      "[[0 0 0 ... 0 0 0]\n",
      " [0 0 0 ... 0 0 0]\n",
      " [0 0 0 ... 0 0 0]\n",
      " ...\n",
      " [0 0 0 ... 0 0 0]\n",
      " [0 0 0 ... 0 0 0]\n",
      " [0 0 0 ... 0 0 0]]\n",
      "[[0 0 0 ... 0 0 0]\n",
      " [0 0 0 ... 0 0 0]\n",
      " [0 0 0 ... 0 0 0]\n",
      " ...\n",
      " [0 0 0 ... 0 0 0]\n",
      " [0 0 0 ... 0 0 0]\n",
      " [0 0 0 ... 0 0 0]]\n",
      "[[0 0 0 ... 0 0 0]\n",
      " [0 0 0 ... 0 0 0]\n",
      " [0 0 0 ... 0 0 0]\n",
      " ...\n",
      " [0 0 0 ... 1 1 1]\n",
      " [0 0 0 ... 1 1 1]\n",
      " [0 0 0 ... 1 1 1]]\n",
      "[[0 0 0 ... 0 0 0]\n",
      " [0 0 0 ... 0 0 0]\n",
      " [0 0 0 ... 0 0 0]\n",
      " ...\n",
      " [1 1 1 ... 0 0 0]\n",
      " [1 1 1 ... 0 0 0]\n",
      " [1 1 1 ... 0 0 0]]\n"
     ]
    }
   ],
   "source": [
    "for category_nr, category_id in enumerate(category_ids):\n",
    "    if category_id is not None:\n",
    "        annotation_ids = coco.getAnnIds(imgIds=image_id, catIds=[category_id, ])\n",
    "        annotations = coco.loadAnns(annotation_ids)\n",
    "        mask, distances = overlay_masks_from_annotations(annotations=annotations,\n",
    "                                                 image_size=image_size,\n",
    "                                                 distances=distances)\n",
    "        \n",
    "        mask_overlayed = np.where(mask, category_nr, mask_overlayed)\n",
    "        \n",
    "sizes = get_size_matrix(mask_overlayed)\n",
    "distances, second_nearest_distances = clean_distances(distances)"
   ]
  },
  {
   "cell_type": "code",
   "execution_count": 93,
   "metadata": {},
   "outputs": [
    {
     "name": "stdout",
     "output_type": "stream",
     "text": [
      "[1982545, 1982548, 1982546, 1982547, 1982544, 1982543, 1982542]\n",
      "[{'id': 1982545, 'image_id': 232566, 'segmentation': [[86, 111, 89, 178, 17, 180, 15, 140, 0, 140, 0, 116, 14, 116, 14, 113, 86, 111]], 'area': 5187.0, 'bbox': [0, 0, 180, 89], 'category_id': 100, 'iscrowd': 0}, {'id': 1982548, 'image_id': 232566, 'segmentation': [[296, 0, 296, 12, 296, 13, 283, 13, 284, 32, 246, 32, 246, 32, 243, 32, 243, 28, 243, 0, 296, 0]], 'area': 1459.0, 'bbox': [0, 243, 296, 53], 'category_id': 100, 'iscrowd': 0}, {'id': 1982546, 'image_id': 232566, 'segmentation': [[275, 61, 276, 80, 300, 79, 300, 105, 238, 107, 236, 62, 275, 61]], 'area': 2364.0, 'bbox': [61, 236, 239, 64], 'category_id': 100, 'iscrowd': 0}, {'id': 1982547, 'image_id': 232566, 'segmentation': [[278, 43, 251, 43, 251, 35, 278, 35, 278, 43]], 'area': 216.0, 'bbox': [43, 251, 235, 27], 'category_id': 100, 'iscrowd': 0}, {'id': 1982544, 'image_id': 232566, 'segmentation': [[288, 250, 243, 252, 240, 199, 300, 197, 300, 238, 288, 238, 288, 250]], 'area': 2947.0, 'bbox': [199, 240, 101, 60], 'category_id': 100, 'iscrowd': 0}, {'id': 1982543, 'image_id': 232566, 'segmentation': [[245, 300, 245, 266, 300, 266, 300, 300, 245, 300]], 'area': 1870.0, 'bbox': [245, 245, 55, 55], 'category_id': 100, 'iscrowd': 0}, {'id': 1982542, 'image_id': 232566, 'segmentation': [[0, 273, 47, 273, 47, 264, 88, 263, 88, 272, 88, 300, 0, 300, 0, 273]], 'area': 2766.0, 'bbox': [0, 0, 273, 88], 'category_id': 100, 'iscrowd': 0}]\n"
     ]
    }
   ],
   "source": [
    "print(annotation_ids)\n",
    "print(annotations)"
   ]
  },
  {
   "cell_type": "code",
   "execution_count": 118,
   "metadata": {},
   "outputs": [
    {
     "name": "stdout",
     "output_type": "stream",
     "text": [
      "[[0 0 0 ... 0 0 0]\n",
      " [0 0 0 ... 0 0 0]\n",
      " [0 0 0 ... 0 0 0]\n",
      " ...\n",
      " [0 0 0 ... 0 0 0]\n",
      " [0 0 0 ... 0 0 0]\n",
      " [0 0 0 ... 0 0 0]]\n"
     ]
    }
   ],
   "source": [
    "mask = np.zeros(image_size)\n",
    "\n",
    "for ann in annotations:\n",
    "    rle = cocomask.frPyObjects(ann['segmentation'], image_size[0], image_size[1])\n",
    "    m = cocomask.decode(rle)\n",
    "    m = m.reshape(image_size)\n",
    "\n",
    "    print(m)\n",
    "    break\n",
    "    if is_on_border(m, 2):\n",
    "        continue\n",
    "    if distances is not None:\n",
    "        distances = update_distances(distances, m)\n",
    "    mask += m"
   ]
  },
  {
   "cell_type": "code",
   "execution_count": 123,
   "metadata": {},
   "outputs": [
    {
     "name": "stdout",
     "output_type": "stream",
     "text": [
      "[[86, 111, 89, 178, 17, 180, 15, 140, 0, 140, 0, 116, 14, 116, 14, 113, 86, 111]]\n"
     ]
    },
    {
     "data": {
      "text/plain": [
       "False"
      ]
     },
     "execution_count": 123,
     "metadata": {},
     "output_type": "execute_result"
    }
   ],
   "source": [
    "print(ann['segmentation'])\n",
    "is_on_border(m,2)\n",
    "#plt.imshow(m2)\n"
   ]
  },
  {
   "cell_type": "code",
   "execution_count": 85,
   "metadata": {},
   "outputs": [
    {
     "name": "stdout",
     "output_type": "stream",
     "text": [
      "[[227.8 227.5 227.2 ...   4.    6.    8. ]\n",
      " [225.8 225.5 225.2 ...   4.    6.    8. ]\n",
      " [223.8 223.5 223.2 ...   4.    6.    8. ]\n",
      " ...\n",
      " [  0.    0.    0.  ...   0.    0.    0. ]\n",
      " [  0.    0.    0.  ...   0.    0.    0. ]\n",
      " [  0.    0.    0.  ...   0.    0.    0. ]]\n"
     ]
    }
   ],
   "source": [
    "print(distances)"
   ]
  },
  {
   "cell_type": "code",
   "execution_count": 86,
   "metadata": {},
   "outputs": [
    {
     "name": "stdout",
     "output_type": "stream",
     "text": [
      "[[0 0 0 ... 0 0 0]\n",
      " [0 0 0 ... 0 0 0]\n",
      " [0 0 0 ... 0 0 0]\n",
      " ...\n",
      " [1 1 1 ... 1 1 1]\n",
      " [1 1 1 ... 1 1 1]\n",
      " [1 1 1 ... 1 1 1]]\n"
     ]
    }
   ],
   "source": [
    "print(m)"
   ]
  },
  {
   "cell_type": "code",
   "execution_count": 82,
   "metadata": {},
   "outputs": [
    {
     "name": "stdout",
     "output_type": "stream",
     "text": [
      "[[   1    1    1 ...    1    1    1]\n",
      " [   1    1    1 ...    1    1    1]\n",
      " [   1    1    1 ...    1    1    1]\n",
      " ...\n",
      " [2766 2766 2766 ... 1870 1870 1870]\n",
      " [2766 2766 2766 ... 1870 1870 1870]\n",
      " [2766 2766 2766 ... 1870 1870 1870]]\n"
     ]
    }
   ],
   "source": [
    "print(sizes)"
   ]
  },
  {
   "cell_type": "code",
   "execution_count": 142,
   "metadata": {},
   "outputs": [
    {
     "name": "stdout",
     "output_type": "stream",
     "text": [
      "{'id': 1982545, 'image_id': 232566, 'segmentation': [[86, 111, 89, 178, 17, 180, 15, 140, 0, 140, 0, 116, 14, 116, 14, 113, 86, 111]], 'area': 5187.0, 'bbox': [0, 0, 180, 89], 'category_id': 100, 'iscrowd': 0}\n"
     ]
    },
    {
     "data": {
      "image/png": "[encoded data removed]",
      "text/plain": [
       "<Figure size 432x288 with 1 Axes>"
      ]
     },
     "metadata": {},
     "output_type": "display_data"
    }
   ],
   "source": [
    "plt.imshow(m)\n",
    "print(ann)"
   ]
  },
  {
   "cell_type": "code",
   "execution_count": 94,
   "metadata": {},
   "outputs": [
    {
     "data": {
      "text/plain": [
       "<matplotlib.image.AxesImage at 0x1178cd3c8>"
      ]
     },
     "execution_count": 94,
     "metadata": {},
     "output_type": "execute_result"
    },
    {
     "data": {
      "image/png": "[encoded data removed]",
      "text/plain": [
       "<Figure size 432x288 with 1 Axes>"
      ]
     },
     "metadata": {},
     "output_type": "display_data"
    }
   ],
   "source": [
    "plt.imshow(sizes)"
   ]
  },
  {
   "cell_type": "code",
   "execution_count": 131,
   "metadata": {},
   "outputs": [
    {
     "data": {
      "text/plain": [
       "True"
      ]
     },
     "execution_count": 131,
     "metadata": {},
     "output_type": "execute_result"
    }
   ],
   "source": [
    "border_width = 2\n",
    "np.any(m[border_width:-border_width, border_width:-border_width])"
   ]
  },
  {
   "cell_type": "code",
   "execution_count": 143,
   "metadata": {},
   "outputs": [],
   "source": [
    "# m[border_width:-border_width, border_width:-border_width]"
   ]
  },
  {
   "cell_type": "code",
   "execution_count": 144,
   "metadata": {},
   "outputs": [],
   "source": [
    "# tmp = m[border_width:-border_width, border_width:-border_width]\n",
    "# tmp.shape"
   ]
  },
  {
   "cell_type": "code",
   "execution_count": 145,
   "metadata": {},
   "outputs": [],
   "source": [
    "# np.any([1])"
   ]
  },
  {
   "cell_type": "code",
   "execution_count": 146,
   "metadata": {},
   "outputs": [
    {
     "data": {
      "text/plain": [
       "array([[216, 216, 216, 216, 216, 216, 216, 216, 216, 216, 216, 216, 216,\n",
       "        216, 216, 216, 216, 216, 216, 216, 216, 216, 216, 216, 216, 216,\n",
       "        216,   1],\n",
       "       [216, 216, 216, 216, 216, 216, 216, 216, 216, 216, 216, 216, 216,\n",
       "        216, 216, 216, 216, 216, 216, 216, 216, 216, 216, 216, 216, 216,\n",
       "        216,   1],\n",
       "       [216, 216, 216, 216, 216, 216, 216, 216, 216, 216, 216, 216, 216,\n",
       "        216, 216, 216, 216, 216, 216, 216, 216, 216, 216, 216, 216, 216,\n",
       "        216,   1],\n",
       "       [216, 216, 216, 216, 216, 216, 216, 216, 216, 216, 216, 216, 216,\n",
       "        216, 216, 216, 216, 216, 216, 216, 216, 216, 216, 216, 216, 216,\n",
       "        216,   1],\n",
       "       [216, 216, 216, 216, 216, 216, 216, 216, 216, 216, 216, 216, 216,\n",
       "        216, 216, 216, 216, 216, 216, 216, 216, 216, 216, 216, 216, 216,\n",
       "        216,   1],\n",
       "       [216, 216, 216, 216, 216, 216, 216, 216, 216, 216, 216, 216, 216,\n",
       "        216, 216, 216, 216, 216, 216, 216, 216, 216, 216, 216, 216, 216,\n",
       "        216,   1],\n",
       "       [216, 216, 216, 216, 216, 216, 216, 216, 216, 216, 216, 216, 216,\n",
       "        216, 216, 216, 216, 216, 216, 216, 216, 216, 216, 216, 216, 216,\n",
       "        216,   1],\n",
       "       [216, 216, 216, 216, 216, 216, 216, 216, 216, 216, 216, 216, 216,\n",
       "        216, 216, 216, 216, 216, 216, 216, 216, 216, 216, 216, 216, 216,\n",
       "        216,   1]], dtype=uint16)"
      ]
     },
     "execution_count": 146,
     "metadata": {},
     "output_type": "execute_result"
    }
   ],
   "source": [
    "#[43, 251, 235, 27]\n",
    "#'segmentation': [[278, 43, 251, 43, 251, 35, 278, 35, 278, 43]],\n",
    "sizes[35:43,251:279]"
   ]
  },
  {
   "cell_type": "code",
   "execution_count": null,
   "metadata": {},
   "outputs": [],
   "source": []
  }
 ],
 "metadata": {
  "kernelspec": {
   "display_name": "Python 3",
   "language": "python",
   "name": "python3"
  },
  "language_info": {
   "codemirror_mode": {
    "name": "ipython",
    "version": 3
   },
   "file_extension": ".py",
   "mimetype": "text/x-python",
   "name": "python",
   "nbconvert_exporter": "python",
   "pygments_lexer": "ipython3",
   "version": "3.6.5"
  }
 },
 "nbformat": 4,
 "nbformat_minor": 2
}
