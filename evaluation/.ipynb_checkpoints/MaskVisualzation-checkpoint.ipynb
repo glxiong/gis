{
 "cells": [
  {
   "cell_type": "code",
   "execution_count": 1,
   "metadata": {},
   "outputs": [],
   "source": [
    "import numpy as np\n",
    "import cv2"
   ]
  },
  {
   "cell_type": "code",
   "execution_count": 2,
   "metadata": {},
   "outputs": [],
   "source": [
    "file_name = \"/Users/sukryool.kang/data/GIS_data/LosAngeles_2017/Unet_result/epoch_50_small_unet_large_data/results/000032_000086-RGB-7cm_000.tif\"\n",
    "out_img = cv2.imread(file_name,cv2.IMREAD_GRAYSCALE)"
   ]
  },
  {
   "cell_type": "code",
   "execution_count": null,
   "metadata": {},
   "outputs": [],
   "source": [
    "file_name2 = \"/Users/sukryool.kang/data/GIS_data/LosAngeles_2017/Unet_result/epoch_50_small_unet_large_data/results_binary/000032_000086-RGB-7cm_000.tif\"\n",
    "out_img2 = cv2.imread(file_name2,cv2.IMREAD_GRAYSCALE)"
   ]
  },
  {
   "cell_type": "code",
   "execution_count": 3,
   "metadata": {},
   "outputs": [
    {
     "name": "stdout",
     "output_type": "stream",
     "text": [
      "[[  1   0   0 ... 201  25  28]\n",
      " [  0   0   0 ... 165  11  10]\n",
      " [  0   0   0 ... 255 255 218]\n",
      " ...\n",
      " [  0   0   0 ... 255 255 255]\n",
      " [  0   0   0 ... 255 255 255]\n",
      " [  0   0   0 ... 255 255 254]]\n"
     ]
    }
   ],
   "source": [
    "print(out_img)"
   ]
  },
  {
   "cell_type": "code",
   "execution_count": null,
   "metadata": {},
   "outputs": [],
   "source": []
  }
 ],
 "metadata": {
  "kernelspec": {
   "display_name": "Python 3",
   "language": "python",
   "name": "python3"
  },
  "language_info": {
   "codemirror_mode": {
    "name": "ipython",
    "version": 3
   },
   "file_extension": ".py",
   "mimetype": "text/x-python",
   "name": "python",
   "nbconvert_exporter": "python",
   "pygments_lexer": "ipython3",
   "version": "3.6.8"
  }
 },
 "nbformat": 4,
 "nbformat_minor": 2
}
